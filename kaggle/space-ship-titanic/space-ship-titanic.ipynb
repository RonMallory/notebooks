{
 "cells": [
  {
   "cell_type": "markdown",
   "metadata": {},
   "source": [
    "# Space Ship Titanic Kaggle Competition\n",
    "\n",
    "\n",
    "1. imports\n",
    "2. modules\n",
    "3. load data\n",
    "4. explore data\n",
    "5. preprocess data\n",
    "6. train model\n",
    "7. evaluate model\n",
    "8. write submission.csv"
   ]
  },
  {
   "cell_type": "markdown",
   "metadata": {},
   "source": [
    "## Imports"
   ]
  },
  {
   "cell_type": "code",
   "execution_count": 1,
   "metadata": {
    "_cell_guid": "b1076dfc-b9ad-4769-8c92-a6c4dae69d19",
    "_uuid": "8f2839f25d086af736a60e9eeb907d3b93b6e0e5",
    "execution": {
     "iopub.execute_input": "2023-09-13T22:32:16.024611Z",
     "iopub.status.busy": "2023-09-13T22:32:16.024236Z",
     "iopub.status.idle": "2023-09-13T22:32:16.033412Z",
     "shell.execute_reply": "2023-09-13T22:32:16.032641Z",
     "shell.execute_reply.started": "2023-09-13T22:32:16.024584Z"
    },
    "trusted": true
   },
   "outputs": [
    {
     "name": "stderr",
     "output_type": "stream",
     "text": [
      "2023-09-14 16:46:55.237494: I tensorflow/core/platform/cpu_feature_guard.cc:182] This TensorFlow binary is optimized to use available CPU instructions in performance-critical operations.\n",
      "To enable the following instructions: AVX2 FMA, in other operations, rebuild TensorFlow with the appropriate compiler flags.\n"
     ]
    }
   ],
   "source": [
    "# Standard Libraries\n",
    "import numpy as np\n",
    "import pandas as pd\n",
    "from itertools import product\n",
    "\n",
    "# Scikit-Learn\n",
    "from sklearn.preprocessing import StandardScaler, LabelEncoder\n",
    "from sklearn.metrics import f1_score, roc_auc_score\n",
    "from sklearn.model_selection import train_test_split\n",
    "from sklearn.model_selection import StratifiedKFold\n",
    "\n",
    "# TensorFlow and Keras\n",
    "from tensorflow.keras.layers import Input, Dense, Dropout\n",
    "from tensorflow.keras.models import Model, Sequential\n",
    "from tensorflow.keras.optimizers import Adam\n",
    "from tensorflow.keras import regularizers\n",
    "from tensorflow.keras.callbacks import EarlyStopping\n",
    "\n",
    "# Plotting\n",
    "import matplotlib.pyplot as plt\n",
    "\n",
    "# Typing\n",
    "from typing import Tuple, Dict\n",
    "from numpy import ndarray\n",
    "from pandas import DataFrame\n"
   ]
  },
  {
   "cell_type": "markdown",
   "metadata": {},
   "source": [
    "## Custom Modules"
   ]
  },
  {
   "cell_type": "markdown",
   "metadata": {},
   "source": [
    "### Handle Missing Names"
   ]
  },
  {
   "cell_type": "code",
   "execution_count": 2,
   "metadata": {},
   "outputs": [],
   "source": [
    "def handle_missing_names(df: DataFrame) -> DataFrame:\n",
    "    df[\"Name\"] = df[\"Name\"].fillna(\"unknown\")\n",
    "    return df\n"
   ]
  },
  {
   "cell_type": "markdown",
   "metadata": {},
   "source": [
    "### Split Data on Char"
   ]
  },
  {
   "cell_type": "code",
   "execution_count": 3,
   "metadata": {},
   "outputs": [],
   "source": [
    "def split_data_on_char(df: DataFrame, col: str, split_on_char: str) -> DataFrame:\n",
    "    \"\"\"\n",
    "    Splits a DataFrame column into multiple columns based on a character.\n",
    "    Leaves NaN values unchanged.\n",
    "\n",
    "    Parameters:\n",
    "        df (DataFrame): Input DataFrame\n",
    "        col (str): Column name to split\n",
    "        split_on_char (str): Character to split on\n",
    "\n",
    "    Returns:\n",
    "        DataFrame: DataFrame with new columns\n",
    "    \"\"\"\n",
    "    # Split the column\n",
    "    split_cols = df[col].str.split(split_on_char, expand=True)\n",
    "    split_cols.columns = [f\"{col}_{i+1}\" for i in range(split_cols.shape[1])]\n",
    "\n",
    "    # Drop the original column and concatenate the new columns\n",
    "    df = pd.concat([df.drop(columns=[col]), split_cols], axis=1)\n",
    "\n",
    "    return df\n"
   ]
  },
  {
   "cell_type": "markdown",
   "metadata": {},
   "source": [
    "### Set Transported to binary"
   ]
  },
  {
   "cell_type": "code",
   "execution_count": 4,
   "metadata": {},
   "outputs": [],
   "source": [
    "def set_transported_to_binary(df: DataFrame) -> DataFrame:\n",
    "    if \"Transported\" in df.columns:\n",
    "        df[\"Transported\"] = df[\"Transported\"].apply(lambda x: 1 if x == \"True\" else 0)\n",
    "    return df\n"
   ]
  },
  {
   "cell_type": "markdown",
   "metadata": {},
   "source": [
    "### Downcast Data Types"
   ]
  },
  {
   "cell_type": "code",
   "execution_count": 5,
   "metadata": {},
   "outputs": [],
   "source": [
    "def downcast_columns(df: DataFrame, inplace: bool = False) -> DataFrame:\n",
    "    \"\"\"\n",
    "    Downcasts columns in a DataFrame to reduce memory usage.\n",
    "\n",
    "    Parameters:\n",
    "        df (DataFrame): The input DataFrame.\n",
    "        inplace (bool): Whether to modify the original DataFrame or return a new one.\n",
    "\n",
    "    Returns:\n",
    "        DataFrame: A DataFrame with downcasted columns.\n",
    "    \"\"\"\n",
    "    if not inplace:\n",
    "        df = df.copy()\n",
    "\n",
    "    for dtype in [\"int\", \"float\"]:\n",
    "        selected_columns = df.select_dtypes(include=[dtype]).columns\n",
    "        for col in selected_columns:\n",
    "            df[col] = pd.to_numeric(df[col], downcast=dtype)\n",
    "\n",
    "    # Uncomment below to optionally downcast object types to category\n",
    "    # for col in df.select_dtypes(include=['object']).columns:\n",
    "    #     if len(df[col].unique()) / len(df[col]) < 0.5:\n",
    "    #         df[col] = df[col].astype('category')\n",
    "\n",
    "    return df\n"
   ]
  },
  {
   "cell_type": "markdown",
   "metadata": {},
   "source": [
    "### Label Encode"
   ]
  },
  {
   "cell_type": "code",
   "execution_count": 6,
   "metadata": {},
   "outputs": [],
   "source": [
    "def label_encode(df: DataFrame) -> Tuple[DataFrame, Dict[str, LabelEncoder]]:\n",
    "    label_encoders = {}\n",
    "    le = LabelEncoder()\n",
    "    categorical_cols = df.select_dtypes(include=[\"object\"]).columns\n",
    "    for col in categorical_cols:\n",
    "        le = LabelEncoder()\n",
    "        df[col] = le.fit_transform(df[col].astype(str))\n",
    "        label_encoders[col] = le\n",
    "    return df, label_encoders\n"
   ]
  },
  {
   "cell_type": "markdown",
   "metadata": {},
   "source": [
    "### Separate Data"
   ]
  },
  {
   "cell_type": "code",
   "execution_count": 7,
   "metadata": {},
   "outputs": [],
   "source": [
    "def separate_data(df: DataFrame) -> (DataFrame, DataFrame):\n",
    "    df_no_missing = df.dropna()\n",
    "    df_with_missing = df.loc[df.isna().any(axis=1)]\n",
    "    return df_no_missing, df_with_missing\n"
   ]
  },
  {
   "cell_type": "markdown",
   "metadata": {},
   "source": [
    "### Scale Features"
   ]
  },
  {
   "cell_type": "code",
   "execution_count": 8,
   "metadata": {},
   "outputs": [],
   "source": [
    "def scale_features(\n",
    "    df: DataFrame, target_col: str = None\n",
    ") -> (DataFrame, StandardScaler):\n",
    "    \"\"\"\n",
    "    Scales the features of a DataFrame.\n",
    "\n",
    "    Parameters:\n",
    "        df (DataFrame): The DataFrame to scale.\n",
    "        target_col (str): The target column to exclude from scaling.\n",
    "\n",
    "    Returns:\n",
    "        DataFrame: The scaled DataFrame.\n",
    "        StandardScaler: The scaler used for scaling.\n",
    "    \"\"\"\n",
    "    scaler = StandardScaler()\n",
    "\n",
    "    # Separate target if it exists\n",
    "    if target_col and target_col in df.columns:\n",
    "        target = df[target_col]\n",
    "        features = df.drop(columns=[target_col])\n",
    "    else:\n",
    "        features = df\n",
    "\n",
    "    # Scale features\n",
    "    features_scaled = scaler.fit_transform(features)\n",
    "\n",
    "    # Combine features and target back into a single DataFrame\n",
    "    if target_col and target_col in df.columns:\n",
    "        df_scaled = DataFrame(features_scaled, columns=features.columns, index=df.index)\n",
    "        df_scaled[target_col] = target\n",
    "    else:\n",
    "        df_scaled = DataFrame(features_scaled, columns=features.columns, index=df.index)\n",
    "\n",
    "    return df_scaled, scaler\n"
   ]
  },
  {
   "cell_type": "markdown",
   "metadata": {},
   "source": [
    "### Train Autoencoder"
   ]
  },
  {
   "cell_type": "code",
   "execution_count": 9,
   "metadata": {},
   "outputs": [],
   "source": [
    "def train_autoencoder(df_no_missing_scaled: DataFrame) -> Model:\n",
    "    input_layer = Input(shape=(df_no_missing_scaled.shape[1],))\n",
    "    encoder = Dense(128, activation=\"relu\")(input_layer)\n",
    "    encoder = Dense(64, activation=\"relu\")(encoder)\n",
    "    latent_space = Dense(32, activation=\"relu\")(encoder)\n",
    "    decoder = Dense(64, activation=\"relu\")(latent_space)\n",
    "    decoder = Dense(128, activation=\"relu\")(decoder)\n",
    "    output_layer = Dense(df_no_missing_scaled.shape[1], activation=\"linear\")(decoder)\n",
    "    autoencoder = Model(inputs=input_layer, outputs=output_layer)\n",
    "    autoencoder.compile(optimizer=\"adam\", loss=\"mean_squared_error\")\n",
    "    autoencoder.fit(\n",
    "        df_no_missing_scaled, df_no_missing_scaled, epochs=50, batch_size=128, verbose=0\n",
    "    )\n",
    "    return autoencoder\n"
   ]
  },
  {
   "cell_type": "markdown",
   "metadata": {},
   "source": [
    "### Impute Missing Values"
   ]
  },
  {
   "cell_type": "code",
   "execution_count": 10,
   "metadata": {},
   "outputs": [],
   "source": [
    "def impute_missing_values(\n",
    "    df_with_missing: DataFrame, autoencoder: Model, scaler: StandardScaler\n",
    ") -> DataFrame:\n",
    "    # Scale the feature set with missing values\n",
    "    df_with_missing_scaled = scaler.transform(df_with_missing.fillna(0))\n",
    "\n",
    "    # Use the autoencoder to predict the missing values\n",
    "    imputed_values_scaled = autoencoder.predict(df_with_missing_scaled)\n",
    "\n",
    "    # Inverse transform to get the original feature values\n",
    "    imputed_values = scaler.inverse_transform(imputed_values_scaled)\n",
    "\n",
    "    # Replace the missing values in the original DataFrame\n",
    "    df_imputed = df_with_missing.copy()\n",
    "    is_null = df_with_missing.isna()\n",
    "    for i in range(df_with_missing.shape[0]):\n",
    "        for j in range(df_with_missing.shape[1]):\n",
    "            if is_null.iloc[i, j]:\n",
    "                df_imputed.iloc[i, j] = imputed_values[i, j]\n",
    "\n",
    "    return df_imputed\n"
   ]
  },
  {
   "cell_type": "markdown",
   "metadata": {},
   "source": [
    "### PreProcess"
   ]
  },
  {
   "cell_type": "code",
   "execution_count": 11,
   "metadata": {},
   "outputs": [],
   "source": [
    "from typing import Tuple\n",
    "\n",
    "\n",
    "def preprocess(\n",
    "    df: DataFrame, target_col: str = \"Transported\"\n",
    ") -> Tuple[DataFrame, Dict[str, LabelEncoder]]:\n",
    "    # Handle missing names\n",
    "    df = handle_missing_names(df)\n",
    "\n",
    "    # Split cabin column\n",
    "    df = split_data_on_char(df, \"Cabin\", \"/\")\n",
    "\n",
    "    # Separate out the target column\n",
    "    if target_col in df.columns:\n",
    "        target = df[target_col]\n",
    "        features = df.drop(columns=[target_col])\n",
    "    else:\n",
    "        features = df\n",
    "\n",
    "    # Exclude 'PassengerId' from the label encoding process\n",
    "    if \"PassengerId\" in features.columns:\n",
    "        passenger_ids = features[\"PassengerId\"]\n",
    "        features = features.drop(columns=[\"PassengerId\"])\n",
    "    else:\n",
    "        passenger_ids = None\n",
    "\n",
    "    # Label encode categorical columns and capture the label encoders\n",
    "    features, label_encoders = label_encode(features)\n",
    "\n",
    "    # If 'PassengerId' was excluded, add it back\n",
    "    if passenger_ids is not None:\n",
    "        features[\"PassengerId\"] = passenger_ids\n",
    "\n",
    "    # Separate rows with and without missing values\n",
    "    features_no_missing, features_with_missing = separate_data(features)\n",
    "\n",
    "    # Scale features\n",
    "    features_no_missing_scaled, scaler = scale_features(features_no_missing)\n",
    "\n",
    "    # Train autoencoder\n",
    "    autoencoder = train_autoencoder(features_no_missing_scaled)\n",
    "\n",
    "    # Impute missing values\n",
    "    features_imputed = impute_missing_values(features_with_missing, autoencoder, scaler)\n",
    "\n",
    "    # Combine imputed and non-missing rows\n",
    "    complete_features = pd.concat([features_no_missing, features_imputed])\n",
    "\n",
    "    # If the target exists, add it back\n",
    "    if target_col in df.columns:\n",
    "        complete_features[target_col] = target\n",
    "\n",
    "    return complete_features, label_encoders\n"
   ]
  },
  {
   "cell_type": "markdown",
   "metadata": {},
   "source": [
    "### Plot Training History"
   ]
  },
  {
   "cell_type": "code",
   "execution_count": 12,
   "metadata": {},
   "outputs": [],
   "source": [
    "def plot_training_history_with_metrics(history, y_true, y_pred_proba):\n",
    "    \"\"\"\n",
    "    Plots the training and validation loss, accuracy, and provides interpretations notes.\n",
    "    Also calculates F1 Score and ROC AUC Score.\n",
    "\n",
    "    Parameters:\n",
    "        history (History): History object returned from model training.\n",
    "        y_true (array-like): True labels for the validation set.\n",
    "        y_pred_proba (array-like): Predicted probabilities for the positive class.\n",
    "\n",
    "    \"\"\"\n",
    "\n",
    "    # Extract training and validation loss\n",
    "    loss = history.history[\"loss\"]\n",
    "    val_loss = history.history[\"val_loss\"]\n",
    "\n",
    "    # Extract training and validation accuracy if it exists\n",
    "    accuracy = history.history.get(\"accuracy\")\n",
    "    val_accuracy = history.history.get(\"val_accuracy\")\n",
    "\n",
    "    # Create figure and axis\n",
    "    fig, ax1 = plt.subplots()\n",
    "\n",
    "    # Plot loss\n",
    "    color = \"tab:red\"\n",
    "    ax1.set_xlabel(\"Epochs\")\n",
    "    ax1.set_ylabel(\"Loss\", color=color)\n",
    "    ax1.plot(loss, label=\"Train Loss\", color=color)\n",
    "    ax1.tick_params(axis=\"y\", labelcolor=color)\n",
    "\n",
    "    # Create another y-axis for the accuracies\n",
    "    ax2 = ax1.twinx()\n",
    "\n",
    "    color = \"tab:blue\"\n",
    "    ax2.set_ylabel(\"Accuracy\", color=color)\n",
    "\n",
    "    # Plot accuracy if it exists\n",
    "    if accuracy and val_accuracy:\n",
    "        ax2.plot(accuracy, label=\"Train Acc\", color=color)\n",
    "        ax2.tick_params(axis=\"y\", labelcolor=color)\n",
    "\n",
    "    # Plot validation data if it exists\n",
    "    if val_loss:\n",
    "        ax1.plot(val_loss, label=\"Val Loss\", color=\"tab:orange\")\n",
    "\n",
    "    if val_accuracy:\n",
    "        ax2.plot(val_accuracy, label=\"Val Acc\", color=\"tab:cyan\")\n",
    "\n",
    "    # Add legends\n",
    "    lines1, labels1 = ax1.get_legend_handles_labels()\n",
    "    lines2, labels2 = ax2.get_legend_handles_labels()\n",
    "    lines = lines1 + lines2\n",
    "    labels = labels1 + labels2\n",
    "    ax1.legend(lines, labels, loc=0)\n",
    "\n",
    "    plt.show()\n",
    "\n",
    "    # Additional Metrics\n",
    "    y_pred = np.round(y_pred_proba)\n",
    "    f1 = f1_score(y_true, y_pred)\n",
    "    roc_auc = roc_auc_score(y_true, y_pred_proba)\n",
    "    print(f\"\\nAdditional Metrics:\")\n",
    "    print(f\"F1 Score: {f1}\")\n",
    "    print(f\"ROC AUC Score: {roc_auc}\")\n",
    "    print()\n",
    "\n",
    "    # Interpretation\n",
    "    print(\"Interpreting the Graph:\")\n",
    "    print(\n",
    "        \"- F1 Score: 2 * (precision * recall) / (precision + recall).  The F1 Score is the harmonic mean of precision and recall. Precision measures how many of the items identified as positive are actually positive, while recall measures how many of the actual positive items are identified correctly.\"\n",
    "    )\n",
    "    print(\n",
    "        \"- ROC AUC Score: The Area Under the Receiver Operating Characteristic Curve (ROC AUC) is a measure of how well a model can distinguish between classes. An ROC AUC of 0.5 means the model is randomly guessing, while an ROC AUC of 1.0 means the model is perfectly distinguishing between positive and negative classes.\"\n",
    "    )\n",
    "    print(\"- A lower 'Loss' means the model is performing better.\")\n",
    "    print(\n",
    "        \"- 'Train Loss' and 'Val Loss' should follow a similar trend. If 'Val Loss' starts increasing while 'Train Loss' continues decreasing, it's likely the model is overfitting.\"\n",
    "    )\n",
    "    print(\n",
    "        \"- Higher 'Accuracy' is generally better, but be cautious if accuracy is very high as it might be a sign of overfitting or a too-simple model.\"\n",
    "    )\n",
    "    print(\n",
    "        \"- 'Train Acc' and 'Val Acc' should also follow similar trends. If 'Val Acc' plateaus or starts decreasing, consider stopping the training or modifying the model.\"\n",
    "    )\n"
   ]
  },
  {
   "cell_type": "markdown",
   "metadata": {},
   "source": [
    "### Create Submission Dataframe"
   ]
  },
  {
   "cell_type": "code",
   "execution_count": 13,
   "metadata": {},
   "outputs": [],
   "source": [
    "def create_submission_dataframe(\n",
    "    y_test_pred: ndarray, passenger_ids: ndarray, threshold: float = 0.5\n",
    ") -> DataFrame:\n",
    "    \"\"\"\n",
    "    Create a submission DataFrame.\n",
    "\n",
    "    Parameters:\n",
    "        y_test_pred (np.ndarray): Model predictions.\n",
    "        passenger_ids (np.ndarray): IDs corresponding to the test set.\n",
    "        threshold (float): Threshold for classifying as 1.\n",
    "\n",
    "    Returns:\n",
    "        DataFrame: Submission DataFrame.\n",
    "    \"\"\"\n",
    "    # Convert probabilities to binary outputs\n",
    "    y_test_pred_binary = (y_test_pred > threshold).astype(int).flatten()\n",
    "\n",
    "    # Create a DataFrame for submission\n",
    "    submission_df = DataFrame(\n",
    "        {\"PassengerId\": passenger_ids, \"Transported\": y_test_pred_binary}\n",
    "    )\n",
    "\n",
    "    return submission_df\n"
   ]
  },
  {
   "cell_type": "markdown",
   "metadata": {},
   "source": [
    "## Load Test and training Data"
   ]
  },
  {
   "cell_type": "code",
   "execution_count": 14,
   "metadata": {},
   "outputs": [
    {
     "name": "stdout",
     "output_type": "stream",
     "text": [
      "Running notebook in local environment\n"
     ]
    }
   ],
   "source": [
    "try:\n",
    "    # Try to load Kaggle dataset\n",
    "    train_data_path = \"/kaggle/input/spaceship-titanic/train.csv\"\n",
    "    test_data_path = \"/kaggle/input/spaceship-titanic/test.csv\"\n",
    "\n",
    "    train = pd.read_csv(train_data_path)\n",
    "    test = pd.read_csv(test_data_path)\n",
    "    print(\"Running notebook in Kaggle environment\")\n",
    "\n",
    "except FileNotFoundError:\n",
    "    # Fall back to local dataset\n",
    "    train_data_path = \"./data/spaceship-titanic/train.csv\"\n",
    "    test_data_path = \"./data/spaceship-titanic/test.csv\"\n",
    "    print(\"Running notebook in local environment\")\n",
    "\n",
    "\n",
    "train = pd.read_csv(train_data_path)\n",
    "test = pd.read_csv(test_data_path)\n"
   ]
  },
  {
   "cell_type": "code",
   "execution_count": 15,
   "metadata": {
    "execution": {
     "iopub.execute_input": "2023-09-13T22:32:16.073450Z",
     "iopub.status.busy": "2023-09-13T22:32:16.072587Z",
     "iopub.status.idle": "2023-09-13T22:32:16.078580Z",
     "shell.execute_reply": "2023-09-13T22:32:16.077310Z",
     "shell.execute_reply.started": "2023-09-13T22:32:16.073422Z"
    },
    "trusted": true
   },
   "outputs": [
    {
     "name": "stdout",
     "output_type": "stream",
     "text": [
      "train shape:(8693, 14)\n",
      "test shape:(4277, 13)\n"
     ]
    }
   ],
   "source": [
    "print(f\"train shape:{train.shape}\")\n",
    "print(f\"test shape:{test.shape}\")\n"
   ]
  },
  {
   "cell_type": "code",
   "execution_count": 16,
   "metadata": {
    "execution": {
     "iopub.execute_input": "2023-09-13T22:32:16.098075Z",
     "iopub.status.busy": "2023-09-13T22:32:16.097728Z",
     "iopub.status.idle": "2023-09-13T22:32:16.117366Z",
     "shell.execute_reply": "2023-09-13T22:32:16.116227Z",
     "shell.execute_reply.started": "2023-09-13T22:32:16.098046Z"
    },
    "trusted": true
   },
   "outputs": [
    {
     "name": "stdout",
     "output_type": "stream",
     "text": [
      "train head:   PassengerId HomePlanet CryoSleep  Cabin  Destination   Age    VIP  \\\n",
      "0     0001_01     Europa     False  B/0/P  TRAPPIST-1e  39.0  False   \n",
      "1     0002_01      Earth     False  F/0/S  TRAPPIST-1e  24.0  False   \n",
      "2     0003_01     Europa     False  A/0/S  TRAPPIST-1e  58.0   True   \n",
      "3     0003_02     Europa     False  A/0/S  TRAPPIST-1e  33.0  False   \n",
      "4     0004_01      Earth     False  F/1/S  TRAPPIST-1e  16.0  False   \n",
      "\n",
      "   RoomService  FoodCourt  ShoppingMall     Spa  VRDeck               Name  \\\n",
      "0          0.0        0.0           0.0     0.0     0.0    Maham Ofracculy   \n",
      "1        109.0        9.0          25.0   549.0    44.0       Juanna Vines   \n",
      "2         43.0     3576.0           0.0  6715.0    49.0      Altark Susent   \n",
      "3          0.0     1283.0         371.0  3329.0   193.0       Solam Susent   \n",
      "4        303.0       70.0         151.0   565.0     2.0  Willy Santantines   \n",
      "\n",
      "   Transported  \n",
      "0        False  \n",
      "1         True  \n",
      "2        False  \n",
      "3        False  \n",
      "4         True  \n",
      "test head:   PassengerId HomePlanet CryoSleep  Cabin  Destination   Age    VIP  \\\n",
      "0     0013_01      Earth      True  G/3/S  TRAPPIST-1e  27.0  False   \n",
      "1     0018_01      Earth     False  F/4/S  TRAPPIST-1e  19.0  False   \n",
      "2     0019_01     Europa      True  C/0/S  55 Cancri e  31.0  False   \n",
      "3     0021_01     Europa     False  C/1/S  TRAPPIST-1e  38.0  False   \n",
      "4     0023_01      Earth     False  F/5/S  TRAPPIST-1e  20.0  False   \n",
      "\n",
      "   RoomService  FoodCourt  ShoppingMall     Spa  VRDeck              Name  \n",
      "0          0.0        0.0           0.0     0.0     0.0   Nelly Carsoning  \n",
      "1          0.0        9.0           0.0  2823.0     0.0    Lerome Peckers  \n",
      "2          0.0        0.0           0.0     0.0     0.0   Sabih Unhearfus  \n",
      "3          0.0     6652.0           0.0   181.0   585.0  Meratz Caltilter  \n",
      "4         10.0        0.0         635.0     0.0     0.0   Brence Harperez  \n"
     ]
    }
   ],
   "source": [
    "print(f\"train head: {train.head()}\")\n",
    "print(f\"test head: {test.head()}\")\n"
   ]
  },
  {
   "cell_type": "code",
   "execution_count": 17,
   "metadata": {
    "execution": {
     "iopub.execute_input": "2023-09-13T22:32:16.119801Z",
     "iopub.status.busy": "2023-09-13T22:32:16.119476Z",
     "iopub.status.idle": "2023-09-13T22:32:16.138274Z",
     "shell.execute_reply": "2023-09-13T22:32:16.137393Z",
     "shell.execute_reply.started": "2023-09-13T22:32:16.119772Z"
    },
    "trusted": true
   },
   "outputs": [
    {
     "name": "stdout",
     "output_type": "stream",
     "text": [
      "<class 'pandas.core.frame.DataFrame'>\n",
      "RangeIndex: 8693 entries, 0 to 8692\n",
      "Data columns (total 14 columns):\n",
      " #   Column        Non-Null Count  Dtype  \n",
      "---  ------        --------------  -----  \n",
      " 0   PassengerId   8693 non-null   object \n",
      " 1   HomePlanet    8492 non-null   object \n",
      " 2   CryoSleep     8476 non-null   object \n",
      " 3   Cabin         8494 non-null   object \n",
      " 4   Destination   8511 non-null   object \n",
      " 5   Age           8514 non-null   float64\n",
      " 6   VIP           8490 non-null   object \n",
      " 7   RoomService   8512 non-null   float64\n",
      " 8   FoodCourt     8510 non-null   float64\n",
      " 9   ShoppingMall  8485 non-null   float64\n",
      " 10  Spa           8510 non-null   float64\n",
      " 11  VRDeck        8505 non-null   float64\n",
      " 12  Name          8493 non-null   object \n",
      " 13  Transported   8693 non-null   bool   \n",
      "dtypes: bool(1), float64(6), object(7)\n",
      "memory usage: 891.5+ KB\n",
      "train info: None\n",
      "<class 'pandas.core.frame.DataFrame'>\n",
      "RangeIndex: 4277 entries, 0 to 4276\n",
      "Data columns (total 13 columns):\n",
      " #   Column        Non-Null Count  Dtype  \n",
      "---  ------        --------------  -----  \n",
      " 0   PassengerId   4277 non-null   object \n",
      " 1   HomePlanet    4190 non-null   object \n",
      " 2   CryoSleep     4184 non-null   object \n",
      " 3   Cabin         4177 non-null   object \n",
      " 4   Destination   4185 non-null   object \n",
      " 5   Age           4186 non-null   float64\n",
      " 6   VIP           4184 non-null   object \n",
      " 7   RoomService   4195 non-null   float64\n",
      " 8   FoodCourt     4171 non-null   float64\n",
      " 9   ShoppingMall  4179 non-null   float64\n",
      " 10  Spa           4176 non-null   float64\n",
      " 11  VRDeck        4197 non-null   float64\n",
      " 12  Name          4183 non-null   object \n",
      "dtypes: float64(6), object(7)\n",
      "memory usage: 434.5+ KB\n",
      "test info: None\n"
     ]
    }
   ],
   "source": [
    "print(f\"train info: {train.info()}\")\n",
    "print(f\"test info: {test.info()}\")\n"
   ]
  },
  {
   "cell_type": "code",
   "execution_count": 18,
   "metadata": {
    "execution": {
     "iopub.execute_input": "2023-09-13T22:32:16.166401Z",
     "iopub.status.busy": "2023-09-13T22:32:16.165554Z",
     "iopub.status.idle": "2023-09-13T22:32:16.191921Z",
     "shell.execute_reply": "2023-09-13T22:32:16.190891Z",
     "shell.execute_reply.started": "2023-09-13T22:32:16.166364Z"
    },
    "trusted": true
   },
   "outputs": [
    {
     "name": "stdout",
     "output_type": "stream",
     "text": [
      "train describe:                Age   RoomService     FoodCourt  ShoppingMall           Spa  \\\n",
      "count  8514.000000   8512.000000   8510.000000   8485.000000   8510.000000   \n",
      "mean     28.827930    224.687617    458.077203    173.729169    311.138778   \n",
      "std      14.489021    666.717663   1611.489240    604.696458   1136.705535   \n",
      "min       0.000000      0.000000      0.000000      0.000000      0.000000   \n",
      "25%      19.000000      0.000000      0.000000      0.000000      0.000000   \n",
      "50%      27.000000      0.000000      0.000000      0.000000      0.000000   \n",
      "75%      38.000000     47.000000     76.000000     27.000000     59.000000   \n",
      "max      79.000000  14327.000000  29813.000000  23492.000000  22408.000000   \n",
      "\n",
      "             VRDeck  \n",
      "count   8505.000000  \n",
      "mean     304.854791  \n",
      "std     1145.717189  \n",
      "min        0.000000  \n",
      "25%        0.000000  \n",
      "50%        0.000000  \n",
      "75%       46.000000  \n",
      "max    24133.000000  \n",
      "test describe:                Age   RoomService     FoodCourt  ShoppingMall           Spa  \\\n",
      "count  4186.000000   4195.000000   4171.000000   4179.000000   4176.000000   \n",
      "mean     28.658146    219.266269    439.484296    177.295525    303.052443   \n",
      "std      14.179072    607.011289   1527.663045    560.821123   1117.186015   \n",
      "min       0.000000      0.000000      0.000000      0.000000      0.000000   \n",
      "25%      19.000000      0.000000      0.000000      0.000000      0.000000   \n",
      "50%      26.000000      0.000000      0.000000      0.000000      0.000000   \n",
      "75%      37.000000     53.000000     78.000000     33.000000     50.000000   \n",
      "max      79.000000  11567.000000  25273.000000   8292.000000  19844.000000   \n",
      "\n",
      "             VRDeck  \n",
      "count   4197.000000  \n",
      "mean     310.710031  \n",
      "std     1246.994742  \n",
      "min        0.000000  \n",
      "25%        0.000000  \n",
      "50%        0.000000  \n",
      "75%       36.000000  \n",
      "max    22272.000000  \n"
     ]
    }
   ],
   "source": [
    "print(f\"train describe: {train.describe()}\")\n",
    "print(f\"test describe: {test.describe()}\")\n"
   ]
  },
  {
   "cell_type": "code",
   "execution_count": 19,
   "metadata": {
    "execution": {
     "iopub.execute_input": "2023-09-13T22:32:16.194475Z",
     "iopub.status.busy": "2023-09-13T22:32:16.194100Z",
     "iopub.status.idle": "2023-09-13T22:32:16.212826Z",
     "shell.execute_reply": "2023-09-13T22:32:16.211360Z",
     "shell.execute_reply.started": "2023-09-13T22:32:16.194445Z"
    },
    "trusted": true
   },
   "outputs": [
    {
     "name": "stdout",
     "output_type": "stream",
     "text": [
      "train nunique: PassengerId     8693\n",
      "HomePlanet         3\n",
      "CryoSleep          2\n",
      "Cabin           6560\n",
      "Destination        3\n",
      "Age               80\n",
      "VIP                2\n",
      "RoomService     1273\n",
      "FoodCourt       1507\n",
      "ShoppingMall    1115\n",
      "Spa             1327\n",
      "VRDeck          1306\n",
      "Name            8473\n",
      "Transported        2\n",
      "dtype: int64\n",
      "test nunique: PassengerId     4277\n",
      "HomePlanet         3\n",
      "CryoSleep          2\n",
      "Cabin           3265\n",
      "Destination        3\n",
      "Age               79\n",
      "VIP                2\n",
      "RoomService      842\n",
      "FoodCourt        902\n",
      "ShoppingMall     715\n",
      "Spa              833\n",
      "VRDeck           796\n",
      "Name            4176\n",
      "dtype: int64\n"
     ]
    }
   ],
   "source": [
    "print(f\"train nunique: {train.nunique()}\")\n",
    "print(f\"test nunique: {test.nunique()}\")\n"
   ]
  },
  {
   "cell_type": "code",
   "execution_count": 20,
   "metadata": {
    "execution": {
     "iopub.execute_input": "2023-09-13T22:32:16.214783Z",
     "iopub.status.busy": "2023-09-13T22:32:16.214196Z",
     "iopub.status.idle": "2023-09-13T22:32:16.226867Z",
     "shell.execute_reply": "2023-09-13T22:32:16.225377Z",
     "shell.execute_reply.started": "2023-09-13T22:32:16.214754Z"
    },
    "trusted": true
   },
   "outputs": [
    {
     "name": "stdout",
     "output_type": "stream",
     "text": [
      "train isnull: PassengerId       0\n",
      "HomePlanet      201\n",
      "CryoSleep       217\n",
      "Cabin           199\n",
      "Destination     182\n",
      "Age             179\n",
      "VIP             203\n",
      "RoomService     181\n",
      "FoodCourt       183\n",
      "ShoppingMall    208\n",
      "Spa             183\n",
      "VRDeck          188\n",
      "Name            200\n",
      "Transported       0\n",
      "dtype: int64\n",
      "test isnull: PassengerId       0\n",
      "HomePlanet       87\n",
      "CryoSleep        93\n",
      "Cabin           100\n",
      "Destination      92\n",
      "Age              91\n",
      "VIP              93\n",
      "RoomService      82\n",
      "FoodCourt       106\n",
      "ShoppingMall     98\n",
      "Spa             101\n",
      "VRDeck           80\n",
      "Name             94\n",
      "dtype: int64\n"
     ]
    }
   ],
   "source": [
    "print(f\"train isnull: {train.isnull().sum()}\")\n",
    "print(f\"test isnull: {test.isnull().sum()}\")\n"
   ]
  },
  {
   "cell_type": "code",
   "execution_count": 21,
   "metadata": {},
   "outputs": [
    {
     "name": "stdout",
     "output_type": "stream",
     "text": [
      "train nulls: PassengerId       0\n",
      "HomePlanet      201\n",
      "CryoSleep       217\n",
      "Cabin           199\n",
      "Destination     182\n",
      "Age             179\n",
      "VIP             203\n",
      "RoomService     181\n",
      "FoodCourt       183\n",
      "ShoppingMall    208\n",
      "Spa             183\n",
      "VRDeck          188\n",
      "Name            200\n",
      "Transported       0\n",
      "dtype: int64\n",
      "test nulls: PassengerId       0\n",
      "HomePlanet       87\n",
      "CryoSleep        93\n",
      "Cabin           100\n",
      "Destination      92\n",
      "Age              91\n",
      "VIP              93\n",
      "RoomService      82\n",
      "FoodCourt       106\n",
      "ShoppingMall     98\n",
      "Spa             101\n",
      "VRDeck           80\n",
      "Name             94\n",
      "dtype: int64\n"
     ]
    }
   ],
   "source": [
    "print(f\"train nulls: {train.isnull().sum()}\")\n",
    "print(f\"test nulls: {test.isnull().sum()}\")\n"
   ]
  },
  {
   "cell_type": "code",
   "execution_count": 22,
   "metadata": {},
   "outputs": [
    {
     "name": "stdout",
     "output_type": "stream",
     "text": [
      "['PassengerId', 'HomePlanet', 'CryoSleep', 'Cabin', 'Destination', 'VIP', 'Name']\n"
     ]
    }
   ],
   "source": [
    "# get all categorical columns\n",
    "train_categorical_cols = train.select_dtypes(include=[\"object\"]).columns.tolist()\n",
    "print(train_categorical_cols)\n"
   ]
  },
  {
   "cell_type": "code",
   "execution_count": 23,
   "metadata": {},
   "outputs": [
    {
     "name": "stdout",
     "output_type": "stream",
     "text": [
      "['Age', 'RoomService', 'FoodCourt', 'ShoppingMall', 'Spa', 'VRDeck']\n"
     ]
    }
   ],
   "source": [
    "# Get all numerical columns\n",
    "train_numerical_cols = train.select_dtypes(\n",
    "    include=[\"int64\", \"float64\"]\n",
    ").columns.tolist()\n",
    "print(train_numerical_cols)\n"
   ]
  },
  {
   "cell_type": "markdown",
   "metadata": {},
   "source": [
    "## PreProcess Test and Training Datasets"
   ]
  },
  {
   "cell_type": "code",
   "execution_count": 24,
   "metadata": {},
   "outputs": [
    {
     "name": "stdout",
     "output_type": "stream",
     "text": [
      "34/34 [==============================] - 0s 924us/step\n",
      "17/17 [==============================] - 0s 888us/step\n"
     ]
    }
   ],
   "source": [
    "# Step 1: Preprocess the data to fill missing values\n",
    "train_processed, train_label_encoder = preprocess(train)\n",
    "test_processed, test_label_encoder = preprocess(test)\n"
   ]
  },
  {
   "cell_type": "code",
   "execution_count": 25,
   "metadata": {},
   "outputs": [
    {
     "data": {
      "text/html": [
       "<div>\n",
       "<style scoped>\n",
       "    .dataframe tbody tr th:only-of-type {\n",
       "        vertical-align: middle;\n",
       "    }\n",
       "\n",
       "    .dataframe tbody tr th {\n",
       "        vertical-align: top;\n",
       "    }\n",
       "\n",
       "    .dataframe thead th {\n",
       "        text-align: right;\n",
       "    }\n",
       "</style>\n",
       "<table border=\"1\" class=\"dataframe\">\n",
       "  <thead>\n",
       "    <tr style=\"text-align: right;\">\n",
       "      <th></th>\n",
       "      <th>HomePlanet</th>\n",
       "      <th>CryoSleep</th>\n",
       "      <th>Destination</th>\n",
       "      <th>Age</th>\n",
       "      <th>VIP</th>\n",
       "      <th>RoomService</th>\n",
       "      <th>FoodCourt</th>\n",
       "      <th>ShoppingMall</th>\n",
       "      <th>Spa</th>\n",
       "      <th>VRDeck</th>\n",
       "      <th>Name</th>\n",
       "      <th>Cabin_1</th>\n",
       "      <th>Cabin_2</th>\n",
       "      <th>Cabin_3</th>\n",
       "      <th>PassengerId</th>\n",
       "      <th>Transported</th>\n",
       "    </tr>\n",
       "  </thead>\n",
       "  <tbody>\n",
       "    <tr>\n",
       "      <th>0</th>\n",
       "      <td>1</td>\n",
       "      <td>0</td>\n",
       "      <td>2</td>\n",
       "      <td>39.0</td>\n",
       "      <td>0</td>\n",
       "      <td>0.0</td>\n",
       "      <td>0.0</td>\n",
       "      <td>0.0</td>\n",
       "      <td>0.0</td>\n",
       "      <td>0.0</td>\n",
       "      <td>5252</td>\n",
       "      <td>1</td>\n",
       "      <td>0</td>\n",
       "      <td>0</td>\n",
       "      <td>0001_01</td>\n",
       "      <td>False</td>\n",
       "    </tr>\n",
       "    <tr>\n",
       "      <th>1</th>\n",
       "      <td>0</td>\n",
       "      <td>0</td>\n",
       "      <td>2</td>\n",
       "      <td>24.0</td>\n",
       "      <td>0</td>\n",
       "      <td>109.0</td>\n",
       "      <td>9.0</td>\n",
       "      <td>25.0</td>\n",
       "      <td>549.0</td>\n",
       "      <td>44.0</td>\n",
       "      <td>4502</td>\n",
       "      <td>5</td>\n",
       "      <td>0</td>\n",
       "      <td>1</td>\n",
       "      <td>0002_01</td>\n",
       "      <td>True</td>\n",
       "    </tr>\n",
       "    <tr>\n",
       "      <th>2</th>\n",
       "      <td>1</td>\n",
       "      <td>0</td>\n",
       "      <td>2</td>\n",
       "      <td>58.0</td>\n",
       "      <td>1</td>\n",
       "      <td>43.0</td>\n",
       "      <td>3576.0</td>\n",
       "      <td>0.0</td>\n",
       "      <td>6715.0</td>\n",
       "      <td>49.0</td>\n",
       "      <td>457</td>\n",
       "      <td>0</td>\n",
       "      <td>0</td>\n",
       "      <td>1</td>\n",
       "      <td>0003_01</td>\n",
       "      <td>False</td>\n",
       "    </tr>\n",
       "    <tr>\n",
       "      <th>3</th>\n",
       "      <td>1</td>\n",
       "      <td>0</td>\n",
       "      <td>2</td>\n",
       "      <td>33.0</td>\n",
       "      <td>0</td>\n",
       "      <td>0.0</td>\n",
       "      <td>1283.0</td>\n",
       "      <td>371.0</td>\n",
       "      <td>3329.0</td>\n",
       "      <td>193.0</td>\n",
       "      <td>7149</td>\n",
       "      <td>0</td>\n",
       "      <td>0</td>\n",
       "      <td>1</td>\n",
       "      <td>0003_02</td>\n",
       "      <td>False</td>\n",
       "    </tr>\n",
       "    <tr>\n",
       "      <th>4</th>\n",
       "      <td>0</td>\n",
       "      <td>0</td>\n",
       "      <td>2</td>\n",
       "      <td>16.0</td>\n",
       "      <td>0</td>\n",
       "      <td>303.0</td>\n",
       "      <td>70.0</td>\n",
       "      <td>151.0</td>\n",
       "      <td>565.0</td>\n",
       "      <td>2.0</td>\n",
       "      <td>8319</td>\n",
       "      <td>5</td>\n",
       "      <td>1</td>\n",
       "      <td>1</td>\n",
       "      <td>0004_01</td>\n",
       "      <td>True</td>\n",
       "    </tr>\n",
       "  </tbody>\n",
       "</table>\n",
       "</div>"
      ],
      "text/plain": [
       "   HomePlanet  CryoSleep  Destination   Age  VIP  RoomService  FoodCourt  \\\n",
       "0           1          0            2  39.0    0          0.0        0.0   \n",
       "1           0          0            2  24.0    0        109.0        9.0   \n",
       "2           1          0            2  58.0    1         43.0     3576.0   \n",
       "3           1          0            2  33.0    0          0.0     1283.0   \n",
       "4           0          0            2  16.0    0        303.0       70.0   \n",
       "\n",
       "   ShoppingMall     Spa  VRDeck  Name  Cabin_1  Cabin_2  Cabin_3 PassengerId  \\\n",
       "0           0.0     0.0     0.0  5252        1        0        0     0001_01   \n",
       "1          25.0   549.0    44.0  4502        5        0        1     0002_01   \n",
       "2           0.0  6715.0    49.0   457        0        0        1     0003_01   \n",
       "3         371.0  3329.0   193.0  7149        0        0        1     0003_02   \n",
       "4         151.0   565.0     2.0  8319        5        1        1     0004_01   \n",
       "\n",
       "   Transported  \n",
       "0        False  \n",
       "1         True  \n",
       "2        False  \n",
       "3        False  \n",
       "4         True  "
      ]
     },
     "execution_count": 25,
     "metadata": {},
     "output_type": "execute_result"
    }
   ],
   "source": [
    "train_processed.head()\n"
   ]
  },
  {
   "cell_type": "code",
   "execution_count": 26,
   "metadata": {},
   "outputs": [
    {
     "data": {
      "text/plain": [
       "(4277, 15)"
      ]
     },
     "execution_count": 26,
     "metadata": {},
     "output_type": "execute_result"
    }
   ],
   "source": [
    "test_processed.shape\n"
   ]
  },
  {
   "cell_type": "markdown",
   "metadata": {},
   "source": [
    "## Hyperparameters"
   ]
  },
  {
   "cell_type": "markdown",
   "metadata": {},
   "source": [
    "## Train Model"
   ]
  },
  {
   "cell_type": "code",
   "execution_count": null,
   "metadata": {},
   "outputs": [],
   "source": []
  },
  {
   "cell_type": "code",
   "execution_count": 27,
   "metadata": {},
   "outputs": [
    {
     "name": "stdout",
     "output_type": "stream",
     "text": [
      "Epoch 1/100\n"
     ]
    },
    {
     "name": "stdout",
     "output_type": "stream",
     "text": [
      "191/191 [==============================] - 1s 2ms/step - loss: 0.8019 - accuracy: 0.6955 - val_loss: 0.7287 - val_accuracy: 0.7642\n",
      "Epoch 2/100\n",
      "191/191 [==============================] - 0s 2ms/step - loss: 0.7075 - accuracy: 0.7538 - val_loss: 0.6681 - val_accuracy: 0.7719\n",
      "Epoch 3/100\n",
      "191/191 [==============================] - 0s 2ms/step - loss: 0.6616 - accuracy: 0.7711 - val_loss: 0.6392 - val_accuracy: 0.7803\n",
      "Epoch 4/100\n",
      "191/191 [==============================] - 0s 2ms/step - loss: 0.6397 - accuracy: 0.7772 - val_loss: 0.6229 - val_accuracy: 0.7849\n",
      "Epoch 5/100\n",
      "191/191 [==============================] - 0s 2ms/step - loss: 0.6207 - accuracy: 0.7854 - val_loss: 0.6059 - val_accuracy: 0.7872\n",
      "Epoch 6/100\n",
      "191/191 [==============================] - 0s 2ms/step - loss: 0.6047 - accuracy: 0.7864 - val_loss: 0.5962 - val_accuracy: 0.7868\n",
      "Epoch 7/100\n",
      "191/191 [==============================] - 0s 2ms/step - loss: 0.5939 - accuracy: 0.7896 - val_loss: 0.5885 - val_accuracy: 0.7822\n",
      "Epoch 8/100\n",
      "191/191 [==============================] - 0s 2ms/step - loss: 0.5829 - accuracy: 0.7928 - val_loss: 0.5778 - val_accuracy: 0.7860\n",
      "Epoch 9/100\n",
      "191/191 [==============================] - 0s 3ms/step - loss: 0.5755 - accuracy: 0.7941 - val_loss: 0.5714 - val_accuracy: 0.7853\n",
      "Epoch 10/100\n",
      "191/191 [==============================] - 0s 2ms/step - loss: 0.5680 - accuracy: 0.7941 - val_loss: 0.5653 - val_accuracy: 0.7860\n",
      "Epoch 11/100\n",
      "191/191 [==============================] - 0s 2ms/step - loss: 0.5632 - accuracy: 0.7924 - val_loss: 0.5544 - val_accuracy: 0.7853\n",
      "Epoch 12/100\n",
      "191/191 [==============================] - 0s 2ms/step - loss: 0.5503 - accuracy: 0.7957 - val_loss: 0.5538 - val_accuracy: 0.7895\n",
      "Epoch 13/100\n",
      "191/191 [==============================] - 0s 2ms/step - loss: 0.5442 - accuracy: 0.7995 - val_loss: 0.5472 - val_accuracy: 0.7853\n",
      "Epoch 14/100\n",
      "191/191 [==============================] - 0s 2ms/step - loss: 0.5408 - accuracy: 0.8020 - val_loss: 0.5406 - val_accuracy: 0.7887\n",
      "Epoch 15/100\n",
      "191/191 [==============================] - 0s 2ms/step - loss: 0.5407 - accuracy: 0.7896 - val_loss: 0.5372 - val_accuracy: 0.7914\n",
      "Epoch 16/100\n",
      "191/191 [==============================] - 0s 2ms/step - loss: 0.5317 - accuracy: 0.7977 - val_loss: 0.5330 - val_accuracy: 0.7887\n",
      "Epoch 17/100\n",
      "191/191 [==============================] - 0s 2ms/step - loss: 0.5271 - accuracy: 0.7982 - val_loss: 0.5292 - val_accuracy: 0.7883\n",
      "Epoch 18/100\n",
      "191/191 [==============================] - 0s 2ms/step - loss: 0.5293 - accuracy: 0.7931 - val_loss: 0.5262 - val_accuracy: 0.7903\n",
      "Epoch 19/100\n",
      "191/191 [==============================] - 0s 2ms/step - loss: 0.5225 - accuracy: 0.8026 - val_loss: 0.5215 - val_accuracy: 0.7895\n",
      "Epoch 20/100\n",
      "191/191 [==============================] - 0s 2ms/step - loss: 0.5166 - accuracy: 0.7995 - val_loss: 0.5240 - val_accuracy: 0.7895\n",
      "Epoch 21/100\n",
      "191/191 [==============================] - 0s 2ms/step - loss: 0.5108 - accuracy: 0.8016 - val_loss: 0.5162 - val_accuracy: 0.7903\n",
      "Epoch 22/100\n",
      "191/191 [==============================] - 0s 2ms/step - loss: 0.5080 - accuracy: 0.8031 - val_loss: 0.5123 - val_accuracy: 0.7899\n",
      "Epoch 23/100\n",
      "191/191 [==============================] - 0s 2ms/step - loss: 0.5067 - accuracy: 0.7988 - val_loss: 0.5098 - val_accuracy: 0.7933\n",
      "Epoch 24/100\n",
      "191/191 [==============================] - 0s 2ms/step - loss: 0.5041 - accuracy: 0.7997 - val_loss: 0.5114 - val_accuracy: 0.7910\n",
      "Epoch 25/100\n",
      "191/191 [==============================] - 0s 2ms/step - loss: 0.5003 - accuracy: 0.8030 - val_loss: 0.5098 - val_accuracy: 0.7914\n",
      "Epoch 26/100\n",
      "191/191 [==============================] - 0s 2ms/step - loss: 0.4985 - accuracy: 0.7985 - val_loss: 0.5051 - val_accuracy: 0.7941\n",
      "Epoch 27/100\n",
      "191/191 [==============================] - 0s 2ms/step - loss: 0.4952 - accuracy: 0.8036 - val_loss: 0.5039 - val_accuracy: 0.7933\n",
      "Epoch 28/100\n",
      "191/191 [==============================] - 0s 2ms/step - loss: 0.4940 - accuracy: 0.8002 - val_loss: 0.5033 - val_accuracy: 0.7922\n",
      "Epoch 29/100\n",
      "191/191 [==============================] - 0s 2ms/step - loss: 0.4910 - accuracy: 0.7982 - val_loss: 0.5051 - val_accuracy: 0.7895\n",
      "Epoch 30/100\n",
      "191/191 [==============================] - 0s 2ms/step - loss: 0.4903 - accuracy: 0.8018 - val_loss: 0.4999 - val_accuracy: 0.7926\n",
      "Epoch 31/100\n",
      "191/191 [==============================] - 0s 2ms/step - loss: 0.4866 - accuracy: 0.8012 - val_loss: 0.4967 - val_accuracy: 0.7918\n",
      "Epoch 32/100\n",
      "191/191 [==============================] - 0s 2ms/step - loss: 0.4886 - accuracy: 0.8012 - val_loss: 0.4954 - val_accuracy: 0.7929\n",
      "Epoch 33/100\n",
      "191/191 [==============================] - 0s 2ms/step - loss: 0.4857 - accuracy: 0.8061 - val_loss: 0.4938 - val_accuracy: 0.7926\n",
      "Epoch 34/100\n",
      "191/191 [==============================] - 0s 2ms/step - loss: 0.4796 - accuracy: 0.8051 - val_loss: 0.4946 - val_accuracy: 0.7918\n",
      "Epoch 35/100\n",
      "191/191 [==============================] - 0s 2ms/step - loss: 0.4799 - accuracy: 0.8016 - val_loss: 0.4909 - val_accuracy: 0.7945\n",
      "Epoch 36/100\n",
      "191/191 [==============================] - 0s 2ms/step - loss: 0.4768 - accuracy: 0.8031 - val_loss: 0.4908 - val_accuracy: 0.7933\n",
      "Epoch 37/100\n",
      "191/191 [==============================] - 0s 2ms/step - loss: 0.4783 - accuracy: 0.8013 - val_loss: 0.4896 - val_accuracy: 0.7933\n",
      "Epoch 38/100\n",
      "191/191 [==============================] - 0s 2ms/step - loss: 0.4762 - accuracy: 0.8035 - val_loss: 0.4856 - val_accuracy: 0.7972\n",
      "Epoch 39/100\n",
      "191/191 [==============================] - 0s 2ms/step - loss: 0.4743 - accuracy: 0.8039 - val_loss: 0.4852 - val_accuracy: 0.7949\n",
      "Epoch 40/100\n",
      "191/191 [==============================] - 0s 2ms/step - loss: 0.4748 - accuracy: 0.8051 - val_loss: 0.4883 - val_accuracy: 0.7922\n",
      "Epoch 41/100\n",
      "191/191 [==============================] - 0s 2ms/step - loss: 0.4708 - accuracy: 0.8058 - val_loss: 0.4851 - val_accuracy: 0.7937\n",
      "Epoch 42/100\n",
      "191/191 [==============================] - 0s 2ms/step - loss: 0.4700 - accuracy: 0.8049 - val_loss: 0.4841 - val_accuracy: 0.7933\n",
      "Epoch 43/100\n",
      "191/191 [==============================] - 0s 2ms/step - loss: 0.4717 - accuracy: 0.8039 - val_loss: 0.4823 - val_accuracy: 0.7964\n",
      "Epoch 44/100\n",
      "191/191 [==============================] - 0s 2ms/step - loss: 0.4686 - accuracy: 0.8003 - val_loss: 0.4814 - val_accuracy: 0.7964\n",
      "Epoch 45/100\n",
      "191/191 [==============================] - 0s 2ms/step - loss: 0.4685 - accuracy: 0.8069 - val_loss: 0.4812 - val_accuracy: 0.7975\n",
      "Epoch 46/100\n",
      "191/191 [==============================] - 0s 2ms/step - loss: 0.4656 - accuracy: 0.8048 - val_loss: 0.4806 - val_accuracy: 0.7968\n",
      "Epoch 47/100\n",
      "191/191 [==============================] - 0s 2ms/step - loss: 0.4628 - accuracy: 0.8081 - val_loss: 0.4792 - val_accuracy: 0.7960\n",
      "Epoch 48/100\n",
      "191/191 [==============================] - 0s 2ms/step - loss: 0.4632 - accuracy: 0.8113 - val_loss: 0.4778 - val_accuracy: 0.7983\n",
      "Epoch 49/100\n",
      "191/191 [==============================] - 0s 2ms/step - loss: 0.4594 - accuracy: 0.8079 - val_loss: 0.4777 - val_accuracy: 0.7937\n",
      "Epoch 50/100\n",
      "191/191 [==============================] - 0s 2ms/step - loss: 0.4640 - accuracy: 0.8076 - val_loss: 0.4768 - val_accuracy: 0.7972\n",
      "Epoch 51/100\n",
      "191/191 [==============================] - 0s 2ms/step - loss: 0.4618 - accuracy: 0.8077 - val_loss: 0.4771 - val_accuracy: 0.7968\n",
      "Epoch 52/100\n",
      "191/191 [==============================] - 0s 2ms/step - loss: 0.4640 - accuracy: 0.8044 - val_loss: 0.4768 - val_accuracy: 0.7949\n",
      "Epoch 53/100\n",
      "191/191 [==============================] - 0s 2ms/step - loss: 0.4608 - accuracy: 0.8069 - val_loss: 0.4755 - val_accuracy: 0.7933\n",
      "Epoch 54/100\n",
      "191/191 [==============================] - 0s 2ms/step - loss: 0.4614 - accuracy: 0.8048 - val_loss: 0.4749 - val_accuracy: 0.7960\n",
      "Epoch 55/100\n",
      "191/191 [==============================] - 0s 2ms/step - loss: 0.4603 - accuracy: 0.8054 - val_loss: 0.4747 - val_accuracy: 0.7956\n",
      "Epoch 56/100\n",
      "191/191 [==============================] - 0s 2ms/step - loss: 0.4563 - accuracy: 0.8084 - val_loss: 0.4772 - val_accuracy: 0.7929\n",
      "Epoch 57/100\n",
      "191/191 [==============================] - 0s 2ms/step - loss: 0.4615 - accuracy: 0.8061 - val_loss: 0.4732 - val_accuracy: 0.7960\n",
      "Epoch 58/100\n",
      "191/191 [==============================] - 0s 2ms/step - loss: 0.4582 - accuracy: 0.8051 - val_loss: 0.4730 - val_accuracy: 0.7987\n",
      "Epoch 59/100\n",
      "191/191 [==============================] - 0s 2ms/step - loss: 0.4606 - accuracy: 0.8023 - val_loss: 0.4747 - val_accuracy: 0.7952\n",
      "Epoch 60/100\n",
      "191/191 [==============================] - 0s 2ms/step - loss: 0.4543 - accuracy: 0.8069 - val_loss: 0.4746 - val_accuracy: 0.7929\n",
      "Epoch 61/100\n",
      "191/191 [==============================] - 0s 2ms/step - loss: 0.4520 - accuracy: 0.8104 - val_loss: 0.4765 - val_accuracy: 0.7895\n",
      "Epoch 62/100\n",
      "191/191 [==============================] - 0s 2ms/step - loss: 0.4553 - accuracy: 0.8051 - val_loss: 0.4780 - val_accuracy: 0.7910\n",
      "Epoch 63/100\n",
      "191/191 [==============================] - 0s 2ms/step - loss: 0.4544 - accuracy: 0.8081 - val_loss: 0.4718 - val_accuracy: 0.7975\n",
      "Epoch 64/100\n",
      "191/191 [==============================] - 0s 2ms/step - loss: 0.4527 - accuracy: 0.8048 - val_loss: 0.4743 - val_accuracy: 0.7918\n",
      "Epoch 65/100\n",
      "191/191 [==============================] - 0s 2ms/step - loss: 0.4514 - accuracy: 0.8084 - val_loss: 0.4759 - val_accuracy: 0.7906\n",
      "Epoch 66/100\n",
      "191/191 [==============================] - 0s 2ms/step - loss: 0.4518 - accuracy: 0.8095 - val_loss: 0.4716 - val_accuracy: 0.7926\n",
      "Epoch 67/100\n",
      "191/191 [==============================] - 0s 2ms/step - loss: 0.4542 - accuracy: 0.8059 - val_loss: 0.4706 - val_accuracy: 0.7929\n",
      "Epoch 68/100\n",
      "191/191 [==============================] - 0s 2ms/step - loss: 0.4521 - accuracy: 0.8069 - val_loss: 0.4709 - val_accuracy: 0.7937\n",
      "Epoch 69/100\n",
      "191/191 [==============================] - 0s 2ms/step - loss: 0.4503 - accuracy: 0.8053 - val_loss: 0.4687 - val_accuracy: 0.7914\n",
      "Epoch 70/100\n",
      "191/191 [==============================] - 0s 2ms/step - loss: 0.4493 - accuracy: 0.8084 - val_loss: 0.4707 - val_accuracy: 0.7929\n",
      "Epoch 71/100\n",
      "191/191 [==============================] - 0s 2ms/step - loss: 0.4523 - accuracy: 0.8079 - val_loss: 0.4687 - val_accuracy: 0.7941\n",
      "Epoch 72/100\n",
      "191/191 [==============================] - 0s 2ms/step - loss: 0.4518 - accuracy: 0.8064 - val_loss: 0.4679 - val_accuracy: 0.7960\n",
      "Epoch 73/100\n",
      "191/191 [==============================] - 0s 2ms/step - loss: 0.4498 - accuracy: 0.8079 - val_loss: 0.4746 - val_accuracy: 0.7891\n",
      "Epoch 74/100\n",
      "191/191 [==============================] - 0s 2ms/step - loss: 0.4498 - accuracy: 0.8105 - val_loss: 0.4679 - val_accuracy: 0.7945\n",
      "Epoch 75/100\n",
      "191/191 [==============================] - 0s 2ms/step - loss: 0.4486 - accuracy: 0.8054 - val_loss: 0.4673 - val_accuracy: 0.7949\n",
      "Epoch 76/100\n",
      "191/191 [==============================] - 0s 2ms/step - loss: 0.4501 - accuracy: 0.8061 - val_loss: 0.4678 - val_accuracy: 0.7937\n",
      "Epoch 77/100\n",
      "191/191 [==============================] - 0s 2ms/step - loss: 0.4503 - accuracy: 0.8076 - val_loss: 0.4658 - val_accuracy: 0.7933\n",
      "Epoch 78/100\n",
      "191/191 [==============================] - 0s 2ms/step - loss: 0.4433 - accuracy: 0.8112 - val_loss: 0.4692 - val_accuracy: 0.7929\n",
      "Epoch 79/100\n",
      "191/191 [==============================] - 0s 2ms/step - loss: 0.4490 - accuracy: 0.8092 - val_loss: 0.4666 - val_accuracy: 0.7952\n",
      "Epoch 80/100\n",
      "191/191 [==============================] - 0s 2ms/step - loss: 0.4454 - accuracy: 0.8069 - val_loss: 0.4653 - val_accuracy: 0.7914\n",
      "Epoch 81/100\n",
      "191/191 [==============================] - 0s 2ms/step - loss: 0.4468 - accuracy: 0.8087 - val_loss: 0.4697 - val_accuracy: 0.7937\n",
      "Epoch 82/100\n",
      "191/191 [==============================] - 0s 2ms/step - loss: 0.4497 - accuracy: 0.8062 - val_loss: 0.4656 - val_accuracy: 0.7964\n",
      "Epoch 83/100\n",
      "191/191 [==============================] - 0s 2ms/step - loss: 0.4438 - accuracy: 0.8077 - val_loss: 0.4650 - val_accuracy: 0.7949\n",
      "Epoch 84/100\n",
      "191/191 [==============================] - 0s 2ms/step - loss: 0.4475 - accuracy: 0.8046 - val_loss: 0.4645 - val_accuracy: 0.7941\n",
      "Epoch 85/100\n",
      "191/191 [==============================] - 0s 2ms/step - loss: 0.4448 - accuracy: 0.8081 - val_loss: 0.4684 - val_accuracy: 0.7883\n",
      "Epoch 86/100\n",
      "191/191 [==============================] - 0s 2ms/step - loss: 0.4466 - accuracy: 0.8038 - val_loss: 0.4649 - val_accuracy: 0.7975\n",
      "Epoch 87/100\n",
      "191/191 [==============================] - 0s 2ms/step - loss: 0.4447 - accuracy: 0.8081 - val_loss: 0.4657 - val_accuracy: 0.7903\n",
      "Epoch 88/100\n",
      "191/191 [==============================] - 0s 2ms/step - loss: 0.4464 - accuracy: 0.8090 - val_loss: 0.4657 - val_accuracy: 0.7918\n",
      "Epoch 89/100\n",
      "191/191 [==============================] - 0s 2ms/step - loss: 0.4447 - accuracy: 0.8135 - val_loss: 0.4655 - val_accuracy: 0.7903\n",
      "Epoch 90/100\n",
      "191/191 [==============================] - 0s 2ms/step - loss: 0.4442 - accuracy: 0.8041 - val_loss: 0.4666 - val_accuracy: 0.7922\n",
      "Epoch 90: early stopping\n",
      "134/134 [==============================] - 0s 805us/step\n",
      "272/272 [==============================] - 0s 778us/step\n",
      "Model: \"sequential\"\n",
      "_________________________________________________________________\n",
      " Layer (type)                Output Shape              Param #   \n",
      "=================================================================\n",
      " dense_12 (Dense)            (None, 128)               1536      \n",
      "                                                                 \n",
      " dropout (Dropout)           (None, 128)               0         \n",
      "                                                                 \n",
      " dense_13 (Dense)            (None, 64)                8256      \n",
      "                                                                 \n",
      " dropout_1 (Dropout)         (None, 64)                0         \n",
      "                                                                 \n",
      " dense_14 (Dense)            (None, 1)                 65        \n",
      "                                                                 \n",
      "=================================================================\n",
      "Total params: 9857 (38.50 KB)\n",
      "Trainable params: 9857 (38.50 KB)\n",
      "Non-trainable params: 0 (0.00 Byte)\n",
      "_________________________________________________________________\n"
     ]
    },
    {
     "data": {
      "image/png": "[encoded data removed]",
      "text/plain": [
       "<Figure size 640x480 with 2 Axes>"
      ]
     },
     "metadata": {},
     "output_type": "display_data"
    },
    {
     "name": "stdout",
     "output_type": "stream",
     "text": [
      "\n",
      "Additional Metrics:\n",
      "F1 Score: 0.8157139704259545\n",
      "ROC AUC Score: 0.8938126585736011\n",
      "\n",
      "Interpreting the Graph:\n",
      "- F1 Score: 2 * (precision * recall) / (precision + recall).  The F1 Score is the harmonic mean of precision and recall. Precision measures how many of the items identified as positive are actually positive, while recall measures how many of the actual positive items are identified correctly.\n",
      "- ROC AUC Score: The Area Under the Receiver Operating Characteristic Curve (ROC AUC) is a measure of how well a model can distinguish between classes. An ROC AUC of 0.5 means the model is randomly guessing, while an ROC AUC of 1.0 means the model is perfectly distinguishing between positive and negative classes.\n",
      "- A lower 'Loss' means the model is performing better.\n",
      "- 'Train Loss' and 'Val Loss' should follow a similar trend. If 'Val Loss' starts increasing while 'Train Loss' continues decreasing, it's likely the model is overfitting.\n",
      "- Higher 'Accuracy' is generally better, but be cautious if accuracy is very high as it might be a sign of overfitting or a too-simple model.\n",
      "- 'Train Acc' and 'Val Acc' should also follow similar trends. If 'Val Acc' plateaus or starts decreasing, consider stopping the training or modifying the model.\n"
     ]
    }
   ],
   "source": [
    "# Define hyperparameters\n",
    "hyperparameters = {\n",
    "    \"epochs\": 100,  # Number of training epochs\n",
    "    \"batch_size\": 32,  # Batch size for the training\n",
    "    \"dense_layer1_units\": 128,  # Number of neurons in the first dense layer\n",
    "    \"dense_layer2_units\": 64,  # Number of neurons in the second dense layer\n",
    "    \"dropout_rate1\": 0.2,  # Dropout rate after the first dense layer\n",
    "    \"dropout_rate2\": 0.3,  # Dropout rate after the second dense layer\n",
    "    \"optimizer\": \"adam\",  # Optimization algorithm\n",
    "    \"learning_rate\": 0.00017,  # Learning rate (if None, default for Adam is used)\n",
    "    \"l1_reg\": 1e-4,  # L1 regularization strength\n",
    "    \"l2_reg\": 1e-3,  # L2 regularization strength\n",
    "    \"early_stopping_monitor\": \"val_loss\",  # Metric to monitor for early stopping\n",
    "    \"early_stopping_min_delta\": 0,  # Minimum change in the monitored metric for early stopping\n",
    "    \"early_stopping_patience\": 6,  # Number of epochs with no improvement to wait before stopping\n",
    "    \"early_stopping_verbose\": 1,  # Verbosity mode\n",
    "    \"early_stopping_mode\": \"auto\",  # Direction to be monitored ('auto', 'min', or 'max')\n",
    "    \"validation_split\": 0.3,  # Fraction of the data to be used for validation\n",
    "}\n",
    "\n",
    "# Initialize EarlyStopping callback\n",
    "early_stopping = EarlyStopping(\n",
    "    monitor=hyperparameters[\"early_stopping_monitor\"],\n",
    "    min_delta=hyperparameters[\"early_stopping_min_delta\"],\n",
    "    patience=hyperparameters[\"early_stopping_patience\"],\n",
    "    verbose=hyperparameters[\"early_stopping_verbose\"],\n",
    "    mode=hyperparameters[\"early_stopping_mode\"],\n",
    ")\n",
    "\n",
    "# List of features to include\n",
    "selected_features = [\n",
    "    \"HomePlanet\",\n",
    "    \"CryoSleep\",\n",
    "    \"Age\",\n",
    "    \"RoomService\",\n",
    "    \"FoodCourt\",\n",
    "    \"ShoppingMall\",\n",
    "    \"Spa\",\n",
    "    \"VRDeck\",\n",
    "    \"Cabin_1\",\n",
    "    \"Cabin_2\",\n",
    "    \"Cabin_3\",\n",
    "]\n",
    "\n",
    "# Separate features and target variable from training data\n",
    "X_train_all = train_processed.drop(\"Transported\", axis=1)\n",
    "y_train = train_processed[\"Transported\"]\n",
    "\n",
    "# Filter the training data to include only the selected features\n",
    "X_train = X_train_all[selected_features]\n",
    "\n",
    "# Assuming test_processed also contains all potential features\n",
    "X_test_all = test_processed\n",
    "# Keep only the columns that are also present in the training set\n",
    "X_test = X_test_all[X_train.columns]\n",
    "\n",
    "# Feature scaling\n",
    "scaler = StandardScaler()\n",
    "X_train_scaled = scaler.fit_transform(X_train)\n",
    "X_test_scaled = scaler.transform(X_test)\n",
    "\n",
    "\n",
    "# Build neural network model\n",
    "predictor = Sequential(\n",
    "    [\n",
    "        Dense(\n",
    "            hyperparameters[\"dense_layer1_units\"],\n",
    "            activation=\"relu\",\n",
    "            input_shape=(X_train_scaled.shape[1],),\n",
    "            kernel_regularizer=regularizers.l1_l2(\n",
    "                l1=hyperparameters[\"l1_reg\"], l2=hyperparameters[\"l2_reg\"]\n",
    "            ),\n",
    "        ),\n",
    "        Dropout(hyperparameters[\"dropout_rate1\"]),\n",
    "        Dense(\n",
    "            hyperparameters[\"dense_layer2_units\"],\n",
    "            activation=\"relu\",\n",
    "            kernel_regularizer=regularizers.l1_l2(\n",
    "                l1=hyperparameters[\"l1_reg\"], l2=hyperparameters[\"l2_reg\"]\n",
    "            ),\n",
    "        ),\n",
    "        Dropout(hyperparameters[\"dropout_rate2\"]),\n",
    "        Dense(1, activation=\"sigmoid\"),  # Binary classification\n",
    "    ]\n",
    ")\n",
    "\n",
    "# Compile the model\n",
    "if hyperparameters[\"learning_rate\"]:\n",
    "    optimizer = Adam(learning_rate=hyperparameters[\"learning_rate\"])\n",
    "else:\n",
    "    optimizer = hyperparameters[\"optimizer\"]\n",
    "\n",
    "predictor.compile(optimizer=optimizer, loss=\"binary_crossentropy\", metrics=[\"accuracy\"])\n",
    "\n",
    "# Train the model\n",
    "history = predictor.fit(\n",
    "    X_train_scaled,\n",
    "    y_train,\n",
    "    epochs=hyperparameters[\"epochs\"],\n",
    "    batch_size=hyperparameters[\"batch_size\"],\n",
    "    validation_split=hyperparameters[\"validation_split\"],\n",
    "    callbacks=[early_stopping],\n",
    ")\n",
    "\n",
    "# Make predictions on the test set (scaled)\n",
    "y_test_pred = predictor.predict(X_test_scaled)\n",
    "# Make predictions on the train set (scaled)\n",
    "y_train_pred = predictor.predict(X_train_scaled)\n",
    "\n",
    "predictor.summary()\n",
    "\n",
    "# Evaluate model performance and plot metrics\n",
    "plot_training_history_with_metrics(history, y_train, y_train_pred)\n",
    "\n",
    "# Create the submission DataFrame\n",
    "submission_df = create_submission_dataframe(y_test_pred, test[\"PassengerId\"])\n",
    "\n",
    "# Set Transported to boolean\n",
    "submission_df[\"Transported\"] = submission_df[\"Transported\"].apply(\n",
    "    lambda x: True if x == 1 else False\n",
    ")\n",
    "# To save the DataFrame as a CSV file\n",
    "submission_df.to_csv(\"submission.csv\", index=False)\n"
   ]
  },
  {
   "cell_type": "code",
   "execution_count": 28,
   "metadata": {},
   "outputs": [
    {
     "name": "stdout",
     "output_type": "stream",
     "text": [
      "[('Spa', 9.264786), ('Cabin_2', 8.106905), ('VRDeck', 7.940337), ('CryoSleep', 7.442589), ('Cabin_3', 6.902055), ('Cabin_1', 6.676402), ('RoomService', 6.4687953), ('FoodCourt', 6.402826), ('ShoppingMall', 6.273531), ('HomePlanet', 6.183282), ('Age', 4.923515)]\n"
     ]
    }
   ],
   "source": [
    "# Assuming 'predictor' is your trained Keras model\n",
    "weights_first_layer = predictor.layers[0].get_weights()[0]\n",
    "\n",
    "# Summing absolute weights for each feature across all neurons in the first layer\n",
    "feature_importance = np.sum(np.abs(weights_first_layer), axis=1)\n",
    "\n",
    "# Creating a dictionary mapping feature names to their summed absolute weights\n",
    "feature_importance_dict = dict(zip(X_train.columns, feature_importance))\n",
    "\n",
    "# Sorting features by importance\n",
    "sorted_features = sorted(feature_importance_dict.items(), key=lambda x: x[1], reverse=True)\n",
    "print(sorted_features)\n"
   ]
  },
  {
   "cell_type": "markdown",
   "metadata": {},
   "source": [
    "## Create Submission"
   ]
  },
  {
   "cell_type": "code",
   "execution_count": 29,
   "metadata": {},
   "outputs": [],
   "source": [
    "# Create the submission DataFrame\n",
    "submission_df = create_submission_dataframe(y_test_pred, test[\"PassengerId\"])\n",
    "\n",
    "# Set Transported to boolean\n",
    "submission_df[\"Transported\"] = submission_df[\"Transported\"].apply(\n",
    "    lambda x: True if x == 1 else False\n",
    ")\n",
    "# To save the DataFrame as a CSV file\n",
    "submission_df.to_csv(\"submission.csv\", index=False)\n"
   ]
  }
 ],
 "metadata": {
  "kernelspec": {
   "display_name": "Python 3",
   "language": "python",
   "name": "python3"
  },
  "language_info": {
   "codemirror_mode": {
    "name": "ipython",
    "version": 3
   },
   "file_extension": ".py",
   "mimetype": "text/x-python",
   "name": "python",
   "nbconvert_exporter": "python",
   "pygments_lexer": "ipython3",
   "version": "3.11.4"
  }
 },
 "nbformat": 4,
 "nbformat_minor": 4
}
